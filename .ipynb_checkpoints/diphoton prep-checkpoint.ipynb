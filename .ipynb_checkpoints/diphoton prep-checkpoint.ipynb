{
 "cells": [
  {
   "cell_type": "code",
   "execution_count": 35,
   "id": "076011b3",
   "metadata": {},
   "outputs": [],
   "source": [
    "import sys\n",
    "import numpy as np\n",
    "\n",
    "import uproot3 as upr3\n",
    "import pandas as pd\n",
    "from ROOT import TLorentzVector\n",
    "\n",
    "import awkward as ak\n",
    "import pyarrow as pa\n",
    "\n",
    "from pathlib import Path\n",
    "\n",
    "GeV = 1000"
   ]
  },
  {
   "cell_type": "code",
   "execution_count": 32,
   "id": "502e56db",
   "metadata": {},
   "outputs": [],
   "source": [
    "path = \"/gpfs/slac/atlas/fs1/d/recsmith/aswt/samples/data16/\"\n",
    "files = [\n",
    "    \"ntuple_HIGG1D1.data16.periodA.root\",\n",
    "    \"ntuple_HIGG1D1.data16.periodB.root\",\n",
    "    \"ntuple_HIGG1D1.data16.periodC.root\",\n",
    "    \"ntuple_HIGG1D1.data16.periodD.root\",\n",
    "    \"ntuple_HIGG1D1.data16.periodE.root\",\n",
    "    \"ntuple_HIGG1D1.data16.periodF.root\",\n",
    "    \"ntuple_HIGG1D1.data16.periodG.root\",\n",
    "    \"ntuple_HIGG1D1.data16.periodI.root\",\n",
    "    \"ntuple_HIGG1D1.data16.periodK.root\",\n",
    "    \"ntuple_HIGG1D1.data16.periodL.root\",\n",
    "]"
   ]
  },
  {
   "cell_type": "code",
   "execution_count": 15,
   "id": "4ec171a1",
   "metadata": {},
   "outputs": [],
   "source": [
    "def myy(ph_pt, ph_eta, ph_phi, ph_m):\n",
    "        \n",
    "    ph1 = TLorentzVector()\n",
    "    ph2 = TLorentzVector()\n",
    "    \n",
    "    ph1.SetPtEtaPhiM(ph_pt[0],ph_eta[0],ph_phi[0],ph_m[0])\n",
    "    ph2.SetPtEtaPhiM(ph_pt[1],ph_eta[1],ph_phi[1],ph_m[1])\n",
    "\n",
    "    return (ph1 + ph2).M()"
   ]
  },
  {
   "cell_type": "code",
   "execution_count": null,
   "id": "45e836b3",
   "metadata": {},
   "outputs": [],
   "source": [
    "arrays_to_open = [\"ph_pt_NOSYS\", \"ph_phi\", \"ph_eta\", \"ph_m\"]\n",
    "\n",
    "for file in files:\n",
    "    \n",
    "    print(path + file)\n",
    "    print(\"Opening...\")\n",
    "    df = pd.DataFrame(upr3.open(path + file)[\"analysis\"].arrays(arrays_to_open, namedecode=\"utf-8\"))\n",
    "    print(\"Opened!\")\n",
    "    \n",
    "    print(\"Applying cuts...\")\n",
    "    new_df = df.copy()\n",
    "    new_df = new_df[\n",
    "        (df.apply(lambda row: len(row.ph_pt_NOSYS), axis=1) == 2) \n",
    "    ]\n",
    "    print(\"Cuts applied!\")\n",
    "    \n",
    "    print(\"Creating new variables...\")\n",
    "    new_df[\"myy\"] = new_df.apply(lambda row: myy(row.ph_pt_NOSYS,row.ph_eta,row.ph_phi,row.ph_m),axis=1)\n",
    "    print(\"Variables created!\")\n",
    "    \n",
    "    print(\"Applying final cuts...\")\n",
    "    final_df = new_df.copy()\n",
    "    final_df = final_df[\n",
    "        (final_df.apply(lambda row: row.myy, axis=1) >= 100*GeV) &\n",
    "        (final_df.apply(lambda row: row.myy, axis=1) <= 200*GeV) \n",
    "    ]\n",
    "    final_df = final_df.reset_index(drop=True)\n",
    "    print(\"Final cuts applied!\")\n",
    "    \n",
    "    print(\"Saving...\")\n",
    "    ak_array = ak.from_arrow(pa.Table.from_pandas(final_df))\n",
    "    filename = Path(file)\n",
    "    filename_replace_ext = filename.with_suffix('.parquet')\n",
    "    print(path + str(filename_replace_ext))\n",
    "    ak.to_parquet(ak_array, path + str(filename_replace_ext))\n",
    "    \n",
    "    del df\n",
    "    del new_df\n",
    "    del final_df\n",
    "    print(\"Saved and finished!\\n\")"
   ]
  },
  {
   "cell_type": "code",
   "execution_count": null,
   "id": "4fdce357",
   "metadata": {},
   "outputs": [],
   "source": []
  }
 ],
 "metadata": {
  "kernelspec": {
   "display_name": "Python 3 (ipykernel)",
   "language": "python",
   "name": "python3"
  },
  "language_info": {
   "codemirror_mode": {
    "name": "ipython",
    "version": 3
   },
   "file_extension": ".py",
   "mimetype": "text/x-python",
   "name": "python",
   "nbconvert_exporter": "python",
   "pygments_lexer": "ipython3",
   "version": "3.8.13"
  }
 },
 "nbformat": 4,
 "nbformat_minor": 5
}
