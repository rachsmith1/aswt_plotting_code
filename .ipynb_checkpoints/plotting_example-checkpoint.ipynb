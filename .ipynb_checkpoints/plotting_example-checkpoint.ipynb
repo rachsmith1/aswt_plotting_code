{
 "cells": [
  {
   "cell_type": "code",
   "execution_count": 1,
   "id": "e35d81d2",
   "metadata": {},
   "outputs": [],
   "source": [
    "import sys\n",
    "import numpy as np\n",
    "\n",
    "import matplotlib as mtp\n",
    "import matplotlib.pyplot as plt\n",
    "sys.path.insert(0, \"PyATLASstyle\")\n",
    "import PyATLASstyle as pas\n",
    "pas.applyATLASstyle(mtp)\n",
    "\n",
    "GeV = 1000"
   ]
  },
  {
   "cell_type": "code",
   "execution_count": 2,
   "id": "5ffbae2f",
   "metadata": {},
   "outputs": [],
   "source": [
    "#file_path = \"../samples/ntuple_v1.root\"\n",
    "file_path = \"/gpfs/slac/atlas/fs1/d/recsmith/aswt/samples/FullCPAlgorithmsTest.mc.hist.root\""
   ]
  },
  {
   "cell_type": "markdown",
   "id": "44801e11",
   "metadata": {},
   "source": [
    "# Uproot + Pandas"
   ]
  },
  {
   "cell_type": "code",
   "execution_count": 3,
   "id": "eeb86bfd",
   "metadata": {},
   "outputs": [],
   "source": [
    "import uproot3 as upr3\n",
    "import pandas as pd\n",
    "from ROOT import TLorentzVector"
   ]
  },
  {
   "cell_type": "code",
   "execution_count": 18,
   "id": "de4989bd",
   "metadata": {},
   "outputs": [],
   "source": [
    "arrays_to_open = [\"mu_pt_NOSYS\", \"mu_phi\", \"mu_eta\", \"mu_charge\"]"
   ]
  },
  {
   "cell_type": "code",
   "execution_count": 19,
   "id": "084afa79",
   "metadata": {},
   "outputs": [],
   "source": [
    "df = pd.DataFrame(upr3.open(file_path)[\"analysis\"].arrays(arrays_to_open, namedecode=\"utf-8\"))"
   ]
  },
  {
   "cell_type": "code",
   "execution_count": 20,
   "id": "35052ba2",
   "metadata": {},
   "outputs": [
    {
     "data": {
      "text/plain": [
       "500"
      ]
     },
     "execution_count": 20,
     "metadata": {},
     "output_type": "execute_result"
    }
   ],
   "source": [
    "# number of events\n",
    "len(df)"
   ]
  },
  {
   "cell_type": "code",
   "execution_count": 21,
   "id": "f509386d",
   "metadata": {},
   "outputs": [
    {
     "data": {
      "text/plain": [
       "0                           [40887.53]\n",
       "1               [23272.473, 31658.508]\n",
       "2                          [96792.195]\n",
       "3      [117296.8, 7729.113, 5017.9087]\n",
       "4               [22940.629, 21235.695]\n",
       "                    ...               \n",
       "495                        [38958.406]\n",
       "496              [36111.816, 36637.57]\n",
       "497                                 []\n",
       "498                        [40904.555]\n",
       "499             [32273.064, 22247.979]\n",
       "Name: mu_pt_NOSYS, Length: 500, dtype: object"
      ]
     },
     "execution_count": 21,
     "metadata": {},
     "output_type": "execute_result"
    }
   ],
   "source": [
    "df[\"mu_pt_NOSYS\"]"
   ]
  },
  {
   "cell_type": "code",
   "execution_count": 22,
   "id": "f218d134",
   "metadata": {},
   "outputs": [],
   "source": [
    "new_df = df.copy()\n",
    "new_df = new_df[\n",
    "    (df.apply(lambda row: len(row.mu_pt_NOSYS), axis=1) == 2) &\n",
    "    (df.apply(lambda row: sum(row.mu_charge), axis=1) == 0) \n",
    "]"
   ]
  },
  {
   "cell_type": "code",
   "execution_count": 23,
   "id": "e296e77c",
   "metadata": {},
   "outputs": [
    {
     "data": {
      "text/plain": [
       "226"
      ]
     },
     "execution_count": 23,
     "metadata": {},
     "output_type": "execute_result"
    }
   ],
   "source": [
    "len(new_df)"
   ]
  },
  {
   "cell_type": "code",
   "execution_count": 24,
   "id": "d39258f7",
   "metadata": {},
   "outputs": [],
   "source": [
    "def mll(mu_pt, mu_eta, mu_phi):\n",
    "    \n",
    "    mu_m = 105.658 #MeV\n",
    "        \n",
    "    mu1 = TLorentzVector()\n",
    "    mu2 = TLorentzVector()\n",
    "    \n",
    "    mu1.SetPtEtaPhiM(mu_pt[0],mu_eta[0],mu_phi[0],mu_m)\n",
    "    mu2.SetPtEtaPhiM(mu_pt[1],mu_eta[1],mu_phi[1],mu_m)\n",
    "\n",
    "    return (mu1 + mu2).M()/GeV"
   ]
  },
  {
   "cell_type": "code",
   "execution_count": 25,
   "id": "819c8c26",
   "metadata": {},
   "outputs": [],
   "source": [
    "new_df[\"mll\"] = new_df.apply(lambda row:\n",
    "        mll(\n",
    "            row.mu_pt_NOSYS,row.mu_eta,row.mu_phi\n",
    "        )\n",
    "    ,axis=1)"
   ]
  },
  {
   "cell_type": "code",
   "execution_count": 26,
   "id": "4960851d",
   "metadata": {},
   "outputs": [
    {
     "data": {
      "text/plain": [
       "1      88.885241\n",
       "4      95.850220\n",
       "5      93.167917\n",
       "8      88.742972\n",
       "10     65.639047\n",
       "         ...    \n",
       "490    91.870032\n",
       "492    89.825627\n",
       "493    93.960542\n",
       "496    96.121065\n",
       "499    84.126256\n",
       "Name: mll, Length: 226, dtype: float64"
      ]
     },
     "execution_count": 26,
     "metadata": {},
     "output_type": "execute_result"
    }
   ],
   "source": [
    "new_df[\"mll\"]"
   ]
  },
  {
   "cell_type": "code",
   "execution_count": 28,
   "id": "fbd10fbe",
   "metadata": {},
   "outputs": [
    {
     "data": {
      "image/png": "[encoded data removed]",
      "text/plain": [
       "<Figure size 500x400 with 1 Axes>"
      ]
     },
     "metadata": {
      "needs_background": "light"
     },
     "output_type": "display_data"
    }
   ],
   "source": [
    "fig, ax = plt.subplots(1, figsize=(5, 4), dpi=100)\n",
    "\n",
    "ax.hist(\n",
    "    new_df[\"mll\"], 50, (0,200), \n",
    "    histtype=\"step\", color=\"royalblue\", linewidth=1.5, label=\"$Z\\\\mu\\\\mu$\"\n",
    ")\n",
    "ax.set_xlabel(\"jet $p_T$ [GeV]\", loc=\"right\")\n",
    "ax.set_ylabel(\"Entries\", loc=\"top\")\n",
    "ax.set_yscale(\"log\")\n",
    "\n",
    "pas.makeATLAStag(\n",
    "    ax, fig, first_tag=\"Internal\", second_tag=r\"$\\sqrt{s}$=13 TeV, ??? fb$^{-1}$\", \n",
    "    xmin=0.55, ymax=0.85, line_spacing=0.6\n",
    ")\n",
    "\n",
    "ax.legend(bbox_to_anchor=(0.52, 0.80), loc=\"upper left\")\n",
    "\n",
    "plt.show()"
   ]
  },
  {
   "cell_type": "markdown",
   "id": "6829a223",
   "metadata": {},
   "source": [
    "# Coffea"
   ]
  },
  {
   "cell_type": "code",
   "execution_count": 9,
   "id": "78e9fd0c",
   "metadata": {},
   "outputs": [],
   "source": [
    "import uproot as upr4\n",
    "import awkward as ak\n",
    "import coffea.processor as processor\n",
    "from coffea.nanoevents import BaseSchema, NanoEventsFactory\n",
    "\n",
    "import hist"
   ]
  },
  {
   "cell_type": "code",
   "execution_count": 10,
   "id": "e9447c90",
   "metadata": {},
   "outputs": [],
   "source": [
    "class MyProcessor(processor.ProcessorABC):\n",
    "    def __init__(self):\n",
    "        dataset_axis = hist.axis.StrCategory(name=\"d_axis\", label=\"\", categories=[], growth=True)\n",
    "        jet_axis = hist.axis.Regular(name=\"j_axis\", label=\"jet $p_T$ [GeV]\", bins=50, start=0, stop=200)\n",
    "        \n",
    "        self.output = processor.dict_accumulator({\n",
    "            'jet_pt': hist.Hist(dataset_axis, jet_axis)\n",
    "        })\n",
    "    \n",
    "    def process(self, events):\n",
    "        dataset = events.metadata['dataset']\n",
    "        self.output['jet_pt'].fill(d_axis=dataset, j_axis=ak.flatten(events[\"jet_pt_NOSYS\"])/GeV)\n",
    "        \n",
    "        return self.output\n",
    "    \n",
    "    def postprocess(self, accumulator):\n",
    "        pass"
   ]
  },
  {
   "cell_type": "code",
   "execution_count": 11,
   "id": "a1cc15e8",
   "metadata": {},
   "outputs": [],
   "source": [
    "file = upr4.open(file_path)\n",
    "events = NanoEventsFactory.from_root(file, \"analysis\", metadata={\"dataset\": \"ttbar\"}, schemaclass=BaseSchema).events()\n",
    "p = MyProcessor()\n",
    "out = p.process(events)"
   ]
  },
  {
   "cell_type": "code",
   "execution_count": 12,
   "id": "1e35eb9a",
   "metadata": {},
   "outputs": [
    {
     "data": {
      "text/plain": [
       "['runNumber', 'eventNumber', 'jet_pt_NOSYS', 'jet_phi', 'jet_eta']"
      ]
     },
     "execution_count": 12,
     "metadata": {},
     "output_type": "execute_result"
    }
   ],
   "source": [
    "events.fields[:5]"
   ]
  },
  {
   "cell_type": "code",
   "execution_count": 13,
   "id": "916147ae",
   "metadata": {},
   "outputs": [
    {
     "data": {
      "text/plain": [
       "{'jet_pt': Hist(\n",
       "   StrCategory(['ttbar'], growth=True, name='d_axis', label='d_axis'),\n",
       "   Regular(50, 0, 200, name='j_axis', label='jet $p_T$ [GeV]'),\n",
       "   storage=Double()) # Sum: 332185.0 (337127.0 with flow)}"
      ]
     },
     "execution_count": 13,
     "metadata": {},
     "output_type": "execute_result"
    }
   ],
   "source": [
    "out"
   ]
  },
  {
   "cell_type": "code",
   "execution_count": 14,
   "id": "bdbef1b6",
   "metadata": {},
   "outputs": [
    {
     "data": {
      "image/png": "[encoded data removed]",
      "text/plain": [
       "<Figure size 500x400 with 1 Axes>"
      ]
     },
     "metadata": {
      "needs_background": "light"
     },
     "output_type": "display_data"
    }
   ],
   "source": [
    "fig, ax = plt.subplots(1, figsize=(5, 4), dpi=100)\n",
    "\n",
    "out[\"jet_pt\"].plot1d(ax=ax, color=\"royalblue\")\n",
    "\n",
    "ax.set_xlabel(\"jet $p_T$ [GeV]\", loc=\"right\")\n",
    "ax.set_ylabel(\"Entries\", loc=\"top\")\n",
    "ax.set_yscale(\"log\")\n",
    "\n",
    "pas.makeATLAStag(\n",
    "    ax, fig, first_tag=\"Internal\", second_tag=r\"$\\sqrt{s}$=13 TeV, ??? fb$^{-1}$\", \n",
    "    xmin=0.55, ymax=0.85, line_spacing=0.6\n",
    ")\n",
    "\n",
    "ax.legend(bbox_to_anchor=(0.52, 0.80), loc=\"upper left\")\n",
    "\n",
    "plt.show()"
   ]
  },
  {
   "cell_type": "code",
   "execution_count": null,
   "id": "24db152b",
   "metadata": {},
   "outputs": [],
   "source": []
  }
 ],
 "metadata": {
  "kernelspec": {
   "display_name": "Python 3 (ipykernel)",
   "language": "python",
   "name": "python3"
  },
  "language_info": {
   "codemirror_mode": {
    "name": "ipython",
    "version": 3
   },
   "file_extension": ".py",
   "mimetype": "text/x-python",
   "name": "python",
   "nbconvert_exporter": "python",
   "pygments_lexer": "ipython3",
   "version": "3.9.13"
  }
 },
 "nbformat": 4,
 "nbformat_minor": 5
}
