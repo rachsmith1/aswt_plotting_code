{
 "cells": [
  {
   "cell_type": "code",
   "execution_count": 40,
   "id": "96cc140e",
   "metadata": {},
   "outputs": [],
   "source": [
    "import numpy as np\n",
    "import os \n",
    "import itertools \n",
    "import uproot\n",
    "import awkward as ak\n",
    "import coffea.processor as processor\n",
    "from coffea.nanoevents import NanoEventsFactory, BaseSchema\n",
    "from coffea.analysis_tools import Weights\n",
    "from ntuple_schema import NtupleSchema, NtupleSchemaData\n",
    "import hist\n",
    "import vector\n",
    "vector.register_awkward()\n",
    "from dask_jobqueue import SLURMCluster\n",
    "from distributed import Client\n",
    "\n",
    "import mplhep as hep\n",
    "hep.style.use([hep.style.ATLAS])\n",
    "import matplotlib.pyplot as plt\n",
    "\n",
    "GeV = 1000"
   ]
  },
  {
   "cell_type": "code",
   "execution_count": 2,
   "id": "16bff12d",
   "metadata": {},
   "outputs": [],
   "source": [
    "luminosity = 2478.52 #pb-1"
   ]
  },
  {
   "cell_type": "code",
   "execution_count": 3,
   "id": "576ba7a6",
   "metadata": {},
   "outputs": [],
   "source": [
    "file_path = \"/gpfs/slac/atlas/fs1/d/recsmith/aswt_samples/\""
   ]
  },
  {
   "cell_type": "code",
   "execution_count": 4,
   "id": "32d846ea",
   "metadata": {},
   "outputs": [],
   "source": [
    "MC_refdict = { \n",
    "    \n",
    "    #Up-type Signals, electron channel\n",
    "    \"sig_el_LQu_700\": { \n",
    "        \"long_name\": \"LQu Signal, 700 GeV el\",\n",
    "        \"ntup_filenames\": {\n",
    "            \"output_312261/\": {\"DSID\": 312261, \"xsec\": 7.30E-02, \"kfactor\": 1.0},\n",
    "        },\n",
    "        \"subdir\": \"signal/\",\n",
    "        \"plt_color\": \"red\",\n",
    "    },\n",
    "    \n",
    "    #Zee + jets\n",
    "    \"zjets\": { \n",
    "        \"long_name\": \"Zee+jets\",\n",
    "        \"ntup_filenames\": {\n",
    "            \"output_700320/\": {\"DSID\": 700320, \"xsec\": 55.5413852,  \"kfactor\": 1.0},\n",
    "            \"output_700321/\": {\"DSID\": 700321, \"xsec\": 286.392209,  \"kfactor\": 1.0},\n",
    "            \"output_700322/\": {\"DSID\": 700322, \"xsec\": 1879.375291, \"kfactor\": 1.0},\n",
    "        },\n",
    "        \"subdir\": \"zjets/\",\n",
    "        \"plt_color\": \"lightskyblue\",\n",
    "    },\n",
    "    \n",
    "    #ttbar\n",
    "    \"ttbar\": { \n",
    "        \"long_name\": \"ttbar\",\n",
    "        \"ntup_filenames\": {\n",
    "            \"output_410472/\": {\"DSID\": 410472, \"xsec\": 76.95,  \"kfactor\": 1.1398},\n",
    "        },\n",
    "        \"subdir\": \"ttbar/\",\n",
    "        \"plt_color\": \"forestgreen\",\n",
    "    },\n",
    "    \n",
    "    #Wev + jets\n",
    "    \"wjets\": { \n",
    "        \"long_name\": \"Wev+jets\",\n",
    "        \"ntup_filenames\": {\n",
    "            \"output_700338/\": {\"DSID\": 700338, \"xsec\": 204.4487228, \"kfactor\": 1.0},\n",
    "            \"output_700339/\": {\"DSID\": 700339, \"xsec\": 3194.76948,  \"kfactor\": 1.0},\n",
    "            \"output_700340/\": {\"DSID\": 700340, \"xsec\": 18342.85572, \"kfactor\": 1.0},\n",
    "        },\n",
    "        \"subdir\": \"wjets/\",\n",
    "        \"plt_color\": \"royalblue\",\n",
    "    },\n",
    "    \n",
    "    #diboson\n",
    "    \"diboson\": { \n",
    "        \"long_name\": \"Diboson\",\n",
    "        \"ntup_filenames\": {\n",
    "            \"output_363356/\": {\"DSID\": 363356, \"xsec\": 15.563,  \"kfactor\": 0.13961},\n",
    "            \"output_363358/\": {\"DSID\": 363358, \"xsec\": 3.437,   \"kfactor\": 1.0},\n",
    "            \"output_364250/\": {\"DSID\": 364250, \"xsec\": 1.2523,  \"kfactor\": 1.0},\n",
    "            \"output_364253/\": {\"DSID\": 364253, \"xsec\": 4.5832,  \"kfactor\": 1.0},\n",
    "            \"output_364254/\": {\"DSID\": 364254, \"xsec\": 12.501,  \"kfactor\": 1.0},\n",
    "        },\n",
    "        \"subdir\": \"diboson/\",\n",
    "        \"plt_color\": \"darkgray\",\n",
    "    },\n",
    "    \n",
    "    #singletop\n",
    "    \"singletop\": { \n",
    "        \"long_name\": \"Single Top\",\n",
    "        \"ntup_filenames\": {\n",
    "            \"output_410644/\": {\"DSID\": 410644, \"xsec\": 2.0268,  \"kfactor\": 1.015},\n",
    "            \"output_410645/\": {\"DSID\": 410645, \"xsec\": 1.2676,  \"kfactor\": 1.015},\n",
    "            \"output_410648/\": {\"DSID\": 410648, \"xsec\": 3.9968,  \"kfactor\": 0.945},\n",
    "            \"output_410649/\": {\"DSID\": 410649, \"xsec\": 3.9940,  \"kfactor\": 0.946},\n",
    "            \"output_410658/\": {\"DSID\": 410658, \"xsec\": 36.993,  \"kfactor\": 1.191},\n",
    "            \"output_410659/\": {\"DSID\": 410659, \"xsec\": 22.175,  \"kfactor\": 1.183},\n",
    "        },\n",
    "        \"subdir\": \"singletop/\",\n",
    "        \"plt_color\": \"darkgoldenrod\",\n",
    "    },\n",
    "    \n",
    "    \n",
    "}"
   ]
  },
  {
   "cell_type": "code",
   "execution_count": 5,
   "id": "97cb4de5",
   "metadata": {},
   "outputs": [],
   "source": [
    "DATA_refdict = { \n",
    "    \n",
    "    #data\n",
    "    \"data\": { \n",
    "        \"long_name\": \"Data\",\n",
    "        \"ntup_filenames\": {\n",
    "            \"output_00340030/\": {\"DSID\": 999999, \"xsec\": 1.0, \"kfactor\": 1.0},\n",
    "            \"output_00340072/\": {\"DSID\": 999999, \"xsec\": 1.0, \"kfactor\": 1.0},\n",
    "            \"output_00340368/\": {\"DSID\": 999999, \"xsec\": 1.0, \"kfactor\": 1.0},\n",
    "            \"output_00340453/\": {\"DSID\": 999999, \"xsec\": 1.0, \"kfactor\": 1.0},\n",
    "        },\n",
    "        \"subdir\": \"data/\",\n",
    "        \"plt_color\": \"black\",\n",
    "    },\n",
    "}"
   ]
  },
  {
   "cell_type": "code",
   "execution_count": 6,
   "id": "75c3f60c",
   "metadata": {},
   "outputs": [],
   "source": [
    "# Note the new preselection applied in our processor! \n",
    "\n",
    "class MyProcessor(processor.ProcessorABC):\n",
    "    def __init__(self):\n",
    "        dataset_axis = hist.axis.StrCategory(name=\"d_axis\", label=\"\", categories=[], growth=True)\n",
    "        dielec_mass_axis = hist.axis.Regular(name=\"e_axis\", label=\"$e\\\\bar{e}$ mass [GeV]\", bins=50, start=0, stop=1000)\n",
    "        \n",
    "        #edges = [500,600,700,800,900,1000,1200,1500,2000]\n",
    "        #mlq_avg_axis = hist.axis.Variable(edges, name=\"m_axis\", label=r\"Avg. $m_{\\ell j}$ [GeV]\")\n",
    "        mlq_avg_axis = hist.axis.Regular(name=\"m_axis\", label=r\"Avg. $m_{\\ell j}$ [GeV]\", bins=25, start=200, stop=1200)\n",
    "\n",
    "        \n",
    "        self.output = {\n",
    "            'h_dielec_mass':  hist.Hist(dataset_axis, dielec_mass_axis) , \n",
    "            'h_mlq_avg':      hist.Hist(dataset_axis, mlq_avg_axis) , \n",
    "        }\n",
    "    \n",
    "    def process(self, events):\n",
    "                \n",
    "        elec = events.Electron\n",
    "        muon = events.Muon\n",
    "        jet = events.Jet\n",
    "        met = events.MET\n",
    "\n",
    "        dielec_neutral = ( \n",
    "            (ak.num(elec) == 2) &                     # We want exactly two electrons \n",
    "            (ak.sum(elec.charge, axis=1) == 0) &      # We want our electrons to have opposite charge \n",
    "            (ak.num(muon) == 0) &                     # We want no muons\n",
    "            (ak.num(jet) >= 2 )                       # We also need at least two jets \n",
    "        )\n",
    "\n",
    "        # Apply the electron-and-jet-level preselection (two electrons and two+ jets with pT cuts)\n",
    "        obj_presel = ( \n",
    "            (elec[dielec_neutral,0].pt/GeV >= 27 ) &     # We want our two electrons to have a pT >= 27 GeV \n",
    "            (elec[dielec_neutral,1].pt/GeV >= 27 ) & \n",
    "            (jet[dielec_neutral,0].pt/GeV >= 45 ) &      # Our jets should have a pT = 45 GeV\n",
    "            (jet[dielec_neutral,1].pt/GeV >= 45 ) & \n",
    "            (jet[dielec_neutral,0].eta <= 2.5 ) &        # Our jets should have an eta <= 2.5 (\"central\" jet) \n",
    "            (jet[dielec_neutral,1].eta <= 2.5 )             \n",
    "        )\n",
    "        \n",
    "        # This time, let's save the MET Significance, too \n",
    "        # This is a bit more complicated to calculate, but it's just the MET divided by the scalar sum of the e and j pTs \n",
    "        met_sig = (\n",
    "            met[dielec_neutral][obj_presel].sumet[:,-1] / np.sqrt( \n",
    "                np.sum( \n",
    "                    [np.sum(elec[dielec_neutral][obj_presel,:].pt,axis=1),\n",
    "                    np.sum(jet[dielec_neutral][obj_presel,:2].pt,axis=1)],axis=0  # only want the leading two jets\n",
    "                )\n",
    "            )\n",
    "        )\n",
    "        \n",
    "        # Again, let's save the di-electron mass \n",
    "        dielec_mass = (elec[dielec_neutral][obj_presel,0] + elec[dielec_neutral][obj_presel,1]).mass\n",
    "        dielec_pt = (elec[dielec_neutral][obj_presel,0] + elec[dielec_neutral][obj_presel,1]).pt\n",
    "  \n",
    "        # We next reconstruct the m_lq values for all lepton-jet pairs \n",
    "        # Note that we'll only use the two \"leading\" jets in pT (those with the highest pT) \n",
    "        pairs = ak.cartesian( {'e':elec[dielec_neutral][obj_presel], 'j':jet[dielec_neutral][obj_presel,:2]} ) \n",
    "        mlq = ( pairs.e + pairs.j ).mass\n",
    "        \n",
    "        # We only have two options for uniquely pairing 2 electrons with 2 jets, so we can define these explicitly below \n",
    "        pair_opt_1 = ak.zip( {\n",
    "            'm1':( elec[dielec_neutral][obj_presel,0] + jet[dielec_neutral][obj_presel,0] ).mass , \n",
    "            'm2':( elec[dielec_neutral][obj_presel,1] + jet[dielec_neutral][obj_presel,1] ).mass\n",
    "        } ) \n",
    "        pair_opt_2 = ak.zip( {\n",
    "            'm1':( elec[dielec_neutral][obj_presel,0] + jet[dielec_neutral][obj_presel,1] ).mass , \n",
    "            'm2':( elec[dielec_neutral][obj_presel,1] + jet[dielec_neutral][obj_presel,0] ).mass\n",
    "        } ) \n",
    "        \n",
    "        # Get the e-j mass system difference from each of our pairing configurations \n",
    "        mdiff1 = np.abs( pair_opt_1.m1 - pair_opt_1.m2 )\n",
    "        mdiff2 = np.abs( pair_opt_2.m1 - pair_opt_2.m2 )\n",
    "        \n",
    "        # Store the pair with the smallest mass difference between the e-j pairs \n",
    "        closest_pairs = ak.where( (mdiff1 < mdiff2) , pair_opt_1 , pair_opt_2 )\n",
    "        mlq1,mlq2 = ak.unzip(closest_pairs)\n",
    "        \n",
    "        # Essentially separate the mass values into the larger and the smaller values \n",
    "        mlq_max = ak.where( (mlq1 > mlq2) , mlq1 , mlq2 )\n",
    "        mlq_min = ak.where( (mlq1 < mlq2) , mlq1 , mlq2 )\n",
    "        \n",
    "        # Calculate some useful variables, like average m_lq and the m_lq asymmetry \n",
    "        mlq_avg = 0.5*(mlq_min+mlq_max)\n",
    "        mlq_asym = ( mlq_max - mlq_min ) / ( mlq_min + mlq_max )\n",
    "\n",
    "        # Now we can calculate the full preselection with event-level variables \n",
    "        # Note that we applied the object (electron and jet) level selection first, since we need those objects \n",
    "        # in order to calculate the event level variables below \n",
    "        evt_presel = (\n",
    "            # The MET Significance should be < 3.5 GeV\n",
    "            ( met_sig < 1000*GeV ) & \n",
    "            # Our dilepton system should have a pT > 75 GeV\n",
    "            ( dielec_pt > 75*GeV ) &\n",
    "            # Our dilepton system should have a mass > 130 GeV\n",
    "            ( dielec_mass > 130*GeV )             \n",
    "        )  \n",
    "        \n",
    "        events_selection = events[dielec_neutral][obj_presel][evt_presel]\n",
    "        weights = Weights(len(events_selection))\n",
    "        if events.metadata[\"sum_of_weights\"][0]!=1.0:\n",
    "            weights.add(\n",
    "                \"genWeight\", \n",
    "                events_selection.weight * events.metadata[\"xsec\"][0] * events.metadata[\"kfactor\"][0] * \\\n",
    "                events.metadata[\"luminosity\"][0] / events.metadata[\"sum_of_weights\"][0]\n",
    "            )\n",
    "\n",
    "        dataset = events.metadata['dataset']\n",
    "        self.output['h_dielec_mass'].fill(d_axis=dataset, e_axis=dielec_mass[evt_presel]/GeV, weight=weights.weight())\n",
    "        self.output['h_mlq_avg'].fill(d_axis=dataset, m_axis=mlq_avg[evt_presel]/GeV, weight=weights.weight())\n",
    "    \n",
    "        return self.output\n",
    "    \n",
    "    def postprocess(self, accumulator):\n",
    "        pass"
   ]
  },
  {
   "cell_type": "code",
   "execution_count": 7,
   "id": "514a110d",
   "metadata": {},
   "outputs": [
    {
     "name": "stdout",
     "output_type": "stream",
     "text": [
      "LQu Signal, 700 GeV el\n",
      "  output_312261/\n",
      "    Evaluating 0/6 subfiles\n",
      "Zee+jets\n",
      "  output_700320/\n",
      "    Evaluating 0/71 subfiles\n",
      "    Evaluating 50/71 subfiles\n",
      "  output_700321/\n",
      "    Evaluating 0/200 subfiles\n",
      "    Evaluating 50/200 subfiles\n",
      "    Evaluating 100/200 subfiles\n",
      "    Evaluating 150/200 subfiles\n",
      "  output_700322/\n",
      "    Evaluating 0/249 subfiles\n",
      "    Evaluating 50/249 subfiles\n",
      "    Evaluating 100/249 subfiles\n",
      "    Evaluating 150/249 subfiles\n",
      "    Evaluating 200/249 subfiles\n"
     ]
    }
   ],
   "source": [
    "myhists = {}\n",
    "\n",
    "for key in MC_refdict: \n",
    "    \n",
    "    myhists[ MC_refdict[key]['long_name'] ] = {}\n",
    "    print(MC_refdict[key]['long_name'])\n",
    "    \n",
    "    for filename in MC_refdict[key]['ntup_filenames']: \n",
    "        print(\"  \" + filename)\n",
    "        \n",
    "        myhists[ MC_refdict[key]['long_name'] ][filename] = {'total_events': 0, 'sum_of_weights': 0}\n",
    "        \n",
    "        file_loc = f\"{file_path}/{MC_refdict[key]['subdir']}/{filename}/\"\n",
    "        subfiles = os.listdir(file_loc)\n",
    "        \n",
    "        for i,subfile in enumerate(subfiles):\n",
    "            if i%50==0:\n",
    "                print(\"    Evaluating {}/{} subfiles\".format(i,len(subfiles)))\n",
    "            \n",
    "            if(\"DAOD_PHYS\" not in subfile): continue\n",
    "            if( os.path.getsize(f\"{file_loc}/{subfile}\") == 0 ): continue   # skip empty files\n",
    "            \n",
    "            file = uproot.open(f\"{file_loc}/{subfile}/hist-sample.root\")\n",
    "            \n",
    "            myhists[ MC_refdict[key]['long_name'] ][filename]['total_events'] += file[\"CutBookkeeper_{}_284500_NOSYS\".format(\n",
    "                MC_refdict[key]['ntup_filenames'][filename]['DSID'])].values()[0]\n",
    "            myhists[ MC_refdict[key]['long_name'] ][filename]['sum_of_weights'] += file[\"CutBookkeeper_{}_284500_NOSYS\".format(\n",
    "                MC_refdict[key]['ntup_filenames'][filename]['DSID'])].values()[1]"
   ]
  },
  {
   "cell_type": "code",
   "execution_count": 8,
   "id": "7bc84d90",
   "metadata": {},
   "outputs": [
    {
     "data": {
      "text/plain": [
       "{'LQu Signal, 700 GeV el': {'output_312261/': {'total_events': 60000.0,\n",
       "   'sum_of_weights': 3821.805419921875}},\n",
       " 'Zee+jets': {'output_700320/': {'total_events': 4570000.0,\n",
       "   'sum_of_weights': 14723979634688.0},\n",
       "  'output_700321/': {'total_events': 8362000.0,\n",
       "   'sum_of_weights': 58215029334016.0},\n",
       "  'output_700322/': {'total_events': 8245000.0,\n",
       "   'sum_of_weights': 115449552338944.0}}}"
      ]
     },
     "execution_count": 8,
     "metadata": {},
     "output_type": "execute_result"
    }
   ],
   "source": [
    "myhists"
   ]
  },
  {
   "cell_type": "code",
   "execution_count": 9,
   "id": "dc775374",
   "metadata": {},
   "outputs": [],
   "source": [
    "my_MC_files = {}\n",
    "\n",
    "for key in MC_refdict: \n",
    "    \n",
    "    my_MC_files[ MC_refdict[key]['long_name'] ] = {}\n",
    "    my_MC_files[ MC_refdict[key]['long_name'] ]['files'] = []\n",
    "    my_MC_files[ MC_refdict[key]['long_name'] ]['metadata'] = {\n",
    "        'xsec': [], 'kfactor': [], 'sum_of_weights': [], 'luminosity': []\n",
    "    }\n",
    "    \n",
    "    for filename in MC_refdict[key]['ntup_filenames']: \n",
    "        \n",
    "        file_loc = f\"{file_path}/{MC_refdict[key]['subdir']}/{filename}/\"\n",
    "        subfiles = os.listdir(file_loc)\n",
    "        \n",
    "        for subfile in subfiles:\n",
    "            \n",
    "            if(\"DAOD_PHYS\" not in subfile): continue\n",
    "            if( os.path.getsize(f\"{file_loc}/{subfile}\") == 0 ): continue   # skip empty files\n",
    "                \n",
    "            my_MC_files[ MC_refdict[key]['long_name'] ]['files'].append( f\"{file_loc}/{subfile}/data-ANALYSIS/sample.root\" ) \n",
    "            \n",
    "            my_MC_files[ MC_refdict[key]['long_name'] ]['metadata']['xsec'].append( \n",
    "                MC_refdict[key]['ntup_filenames'][filename]['xsec'] \n",
    "            ) \n",
    "            my_MC_files[ MC_refdict[key]['long_name'] ]['metadata']['kfactor'].append( \n",
    "                MC_refdict[key]['ntup_filenames'][filename]['kfactor'] \n",
    "            )\n",
    "            my_MC_files[ MC_refdict[key]['long_name'] ]['metadata']['luminosity'].append( \n",
    "                luminosity\n",
    "            )\n",
    "            my_MC_files[ MC_refdict[key]['long_name'] ]['metadata']['sum_of_weights'].append( \n",
    "                myhists[ MC_refdict[key]['long_name'] ][filename]['sum_of_weights'] \n",
    "            )"
   ]
  },
  {
   "cell_type": "code",
   "execution_count": 10,
   "id": "c30a3a1b",
   "metadata": {},
   "outputs": [
    {
     "name": "stdout",
     "output_type": "stream",
     "text": [
      "/gpfs/slac/atlas/fs1/d/recsmith/aswt_samples//data//output_00340072///DAOD_PHYS_28105679__001416/data-ANALYSIS/sample.root\n",
      "/gpfs/slac/atlas/fs1/d/recsmith/aswt_samples//data//output_00340072///DAOD_PHYS_28105679__001618/data-ANALYSIS/sample.root\n",
      "/gpfs/slac/atlas/fs1/d/recsmith/aswt_samples//data//output_00340072///DAOD_PHYS_28105679__001414/data-ANALYSIS/sample.root\n",
      "/gpfs/slac/atlas/fs1/d/recsmith/aswt_samples//data//output_00340072///DAOD_PHYS_28105679__001584/data-ANALYSIS/sample.root\n",
      "/gpfs/slac/atlas/fs1/d/recsmith/aswt_samples//data//output_00340072///DAOD_PHYS_28105679__001586/data-ANALYSIS/sample.root\n",
      "/gpfs/slac/atlas/fs1/d/recsmith/aswt_samples//data//output_00340072///DAOD_PHYS_28105679__001754/data-ANALYSIS/sample.root\n",
      "/gpfs/slac/atlas/fs1/d/recsmith/aswt_samples//data//output_00340072///DAOD_PHYS_28105679__001763/data-ANALYSIS/sample.root\n",
      "/gpfs/slac/atlas/fs1/d/recsmith/aswt_samples//data//output_00340072///DAOD_PHYS_28105679__001587/data-ANALYSIS/sample.root\n",
      "/gpfs/slac/atlas/fs1/d/recsmith/aswt_samples//data//output_00340072///DAOD_PHYS_28105679__001619/data-ANALYSIS/sample.root\n",
      "/gpfs/slac/atlas/fs1/d/recsmith/aswt_samples//data//output_00340072///DAOD_PHYS_28105679__001759/data-ANALYSIS/sample.root\n",
      "/gpfs/slac/atlas/fs1/d/recsmith/aswt_samples//data//output_00340072///DAOD_PHYS_28105679__001756/data-ANALYSIS/sample.root\n",
      "/gpfs/slac/atlas/fs1/d/recsmith/aswt_samples//data//output_00340072///DAOD_PHYS_28105679__001415/data-ANALYSIS/sample.root\n",
      "/gpfs/slac/atlas/fs1/d/recsmith/aswt_samples//data//output_00340072///DAOD_PHYS_28105679__001753/data-ANALYSIS/sample.root\n",
      "/gpfs/slac/atlas/fs1/d/recsmith/aswt_samples//data//output_00340072///DAOD_PHYS_28105679__001583/data-ANALYSIS/sample.root\n",
      "/gpfs/slac/atlas/fs1/d/recsmith/aswt_samples//data//output_00340072///DAOD_PHYS_28105679__001585/data-ANALYSIS/sample.root\n",
      "/gpfs/slac/atlas/fs1/d/recsmith/aswt_samples//data//output_00340072///DAOD_PHYS_28105679__001764/data-ANALYSIS/sample.root\n",
      "/gpfs/slac/atlas/fs1/d/recsmith/aswt_samples//data//output_00340072///DAOD_PHYS_28105679__001577/data-ANALYSIS/sample.root\n",
      "/gpfs/slac/atlas/fs1/d/recsmith/aswt_samples//data//output_00340072///DAOD_PHYS_28105679__001620/data-ANALYSIS/sample.root\n",
      "/gpfs/slac/atlas/fs1/d/recsmith/aswt_samples//data//output_00340072///DAOD_PHYS_28105679__000591/data-ANALYSIS/sample.root\n",
      "/gpfs/slac/atlas/fs1/d/recsmith/aswt_samples//data//output_00340072///DAOD_PHYS_28105679__001758/data-ANALYSIS/sample.root\n",
      "/gpfs/slac/atlas/fs1/d/recsmith/aswt_samples//data//output_00340072///DAOD_PHYS_28105679__001757/data-ANALYSIS/sample.root\n",
      "/gpfs/slac/atlas/fs1/d/recsmith/aswt_samples//data//output_00340072///DAOD_PHYS_28105679__001760/data-ANALYSIS/sample.root\n",
      "/gpfs/slac/atlas/fs1/d/recsmith/aswt_samples//data//output_00340072///DAOD_PHYS_28105679__001578/data-ANALYSIS/sample.root\n",
      "/gpfs/slac/atlas/fs1/d/recsmith/aswt_samples//data//output_00340072///DAOD_PHYS_28105679__001621/data-ANALYSIS/sample.root\n",
      "/gpfs/slac/atlas/fs1/d/recsmith/aswt_samples//data//output_00340072///DAOD_PHYS_28105679__001761/data-ANALYSIS/sample.root\n",
      "/gpfs/slac/atlas/fs1/d/recsmith/aswt_samples//data//output_00340072///DAOD_PHYS_28105679__001762/data-ANALYSIS/sample.root\n",
      "/gpfs/slac/atlas/fs1/d/recsmith/aswt_samples//data//output_00340072///DAOD_PHYS_28105679__001755/data-ANALYSIS/sample.root\n",
      "/gpfs/slac/atlas/fs1/d/recsmith/aswt_samples//data//output_00340453///DAOD_PHYS_28105683__002127/data-ANALYSIS/sample.root\n",
      "/gpfs/slac/atlas/fs1/d/recsmith/aswt_samples//data//output_00340453///DAOD_PHYS_28105683__002346/data-ANALYSIS/sample.root\n",
      "/gpfs/slac/atlas/fs1/d/recsmith/aswt_samples//data//output_00340453///DAOD_PHYS_28105683__002134/data-ANALYSIS/sample.root\n",
      "/gpfs/slac/atlas/fs1/d/recsmith/aswt_samples//data//output_00340453///DAOD_PHYS_28105683__002122/data-ANALYSIS/sample.root\n",
      "/gpfs/slac/atlas/fs1/d/recsmith/aswt_samples//data//output_00340453///DAOD_PHYS_28105683__002128/data-ANALYSIS/sample.root\n",
      "/gpfs/slac/atlas/fs1/d/recsmith/aswt_samples//data//output_00340453///DAOD_PHYS_28105683__002124/data-ANALYSIS/sample.root\n",
      "/gpfs/slac/atlas/fs1/d/recsmith/aswt_samples//data//output_00340453///DAOD_PHYS_28105683__002123/data-ANALYSIS/sample.root\n",
      "/gpfs/slac/atlas/fs1/d/recsmith/aswt_samples//data//output_00340453///DAOD_PHYS_28105683__002135/data-ANALYSIS/sample.root\n",
      "/gpfs/slac/atlas/fs1/d/recsmith/aswt_samples//data//output_00340453///DAOD_PHYS_28105683__002126/data-ANALYSIS/sample.root\n",
      "/gpfs/slac/atlas/fs1/d/recsmith/aswt_samples//data//output_00340453///DAOD_PHYS_28105683__002125/data-ANALYSIS/sample.root\n"
     ]
    }
   ],
   "source": [
    "my_DATA_files = {}\n",
    "\n",
    "for key in DATA_refdict: \n",
    "    \n",
    "    my_DATA_files[ DATA_refdict[key]['long_name'] ] = {}\n",
    "    my_DATA_files[ DATA_refdict[key]['long_name'] ]['files'] = []\n",
    "    my_DATA_files[ DATA_refdict[key]['long_name'] ]['metadata'] = {\n",
    "        'xsec': [], 'kfactor': [], 'sum_of_weights': [], 'luminosity': []\n",
    "    }\n",
    "    \n",
    "    for filename in DATA_refdict[key]['ntup_filenames']: \n",
    "        \n",
    "        file_loc = f\"{file_path}/{DATA_refdict[key]['subdir']}/{filename}/\"\n",
    "        subfiles = os.listdir(file_loc)\n",
    "        \n",
    "        for subfile in subfiles:\n",
    "            \n",
    "            if(\"DAOD_PHYS\" not in subfile): continue\n",
    "            if( os.path.getsize(f\"{file_loc}/{subfile}\") == 0 ): continue   # skip empty files\n",
    "            if( os.path.getsize(f\"{file_loc}/{subfile}/data-ANALYSIS/sample.root\") < 1000 ): \n",
    "                print(f\"{file_loc}/{subfile}/data-ANALYSIS/sample.root\")\n",
    "                continue   # skip empty files\n",
    "                \n",
    "            my_DATA_files[ DATA_refdict[key]['long_name'] ]['files'].append( f\"{file_loc}/{subfile}/data-ANALYSIS/sample.root\" ) \n",
    "            \n",
    "            my_DATA_files[ DATA_refdict[key]['long_name'] ]['metadata']['xsec'].append(1.0) \n",
    "            my_DATA_files[ DATA_refdict[key]['long_name'] ]['metadata']['kfactor'].append(1.0)\n",
    "            my_DATA_files[ DATA_refdict[key]['long_name'] ]['metadata']['luminosity'].append(1.0)\n",
    "            my_DATA_files[ DATA_refdict[key]['long_name'] ]['metadata']['sum_of_weights'].append(1.0)"
   ]
  },
  {
   "cell_type": "code",
   "execution_count": 11,
   "id": "609c5071",
   "metadata": {},
   "outputs": [],
   "source": [
    "#myfile = \"/gpfs/slac/atlas/fs1/d/recsmith/aswt_samples//zjets//output_700322///DAOD_PHYS_28264058__000079/data-ANALYSIS/sample.root\"\n",
    "#events = NanoEventsFactory.from_root(\n",
    "#    myfile, \"analysis\", metadata={\"dataset\": \"Z+jets\", \"DSID\": 700322}, schemaclass=NtupleSchema,\n",
    "#    entry_stop = 500\n",
    "#).events()\n",
    "#out = MyProcessor().process(events)"
   ]
  },
  {
   "cell_type": "code",
   "execution_count": 12,
   "id": "637ef16c",
   "metadata": {},
   "outputs": [],
   "source": [
    "cluster = SLURMCluster(\n",
    "    queue='shared',\n",
    "    project=\"analysis\",\n",
    "    cores=10,\n",
    "    memory=\"100 GB\",\n",
    "    python=\"/gpfs/slac/atlas/fs1/d/recsmith/miniconda/envs/aswt_env/bin/python3.10\",\n",
    "    job_extra_directives=['--account=shared', '--partition=shared', '--output=/dev/null', '--error=/dev/null'],\n",
    ")\n",
    "cluster.scale(jobs=20)  # ask for 20 jobs"
   ]
  },
  {
   "cell_type": "code",
   "execution_count": 13,
   "id": "3b7b878c",
   "metadata": {},
   "outputs": [],
   "source": [
    "client = Client(cluster)"
   ]
  },
  {
   "cell_type": "code",
   "execution_count": 14,
   "id": "39041e42",
   "metadata": {},
   "outputs": [
    {
     "data": {
      "text/html": [
       "<div>\n",
       "    <div style=\"width: 24px; height: 24px; background-color: #e1e1e1; border: 3px solid #9D9D9D; border-radius: 5px; position: absolute;\"> </div>\n",
       "    <div style=\"margin-left: 48px;\">\n",
       "        <h3 style=\"margin-bottom: 0px;\">Client</h3>\n",
       "        <p style=\"color: #9D9D9D; margin-bottom: 0px;\">Client-cbb7a0b6-42c0-11ed-9fc9-af4b3b0ed8a6</p>\n",
       "        <table style=\"width: 100%; text-align: left;\">\n",
       "\n",
       "        <tr>\n",
       "        \n",
       "            <td style=\"text-align: left;\"><strong>Connection method:</strong> Cluster object</td>\n",
       "            <td style=\"text-align: left;\"><strong>Cluster type:</strong> dask_jobqueue.SLURMCluster</td>\n",
       "        \n",
       "        </tr>\n",
       "\n",
       "        \n",
       "            <tr>\n",
       "                <td style=\"text-align: left;\">\n",
       "                    <strong>Dashboard: </strong> <a href=\"http://134.79.21.48:8787/status\" target=\"_blank\">http://134.79.21.48:8787/status</a>\n",
       "                </td>\n",
       "                <td style=\"text-align: left;\"></td>\n",
       "            </tr>\n",
       "        \n",
       "\n",
       "        </table>\n",
       "\n",
       "        \n",
       "            <details>\n",
       "            <summary style=\"margin-bottom: 20px;\"><h3 style=\"display: inline;\">Cluster Info</h3></summary>\n",
       "            <div class=\"jp-RenderedHTMLCommon jp-RenderedHTML jp-mod-trusted jp-OutputArea-output\">\n",
       "    <div style=\"width: 24px; height: 24px; background-color: #e1e1e1; border: 3px solid #9D9D9D; border-radius: 5px; position: absolute;\">\n",
       "    </div>\n",
       "    <div style=\"margin-left: 48px;\">\n",
       "        <h3 style=\"margin-bottom: 0px; margin-top: 0px;\">SLURMCluster</h3>\n",
       "        <p style=\"color: #9D9D9D; margin-bottom: 0px;\">8b53cf65</p>\n",
       "        <table style=\"width: 100%; text-align: left;\">\n",
       "            <tr>\n",
       "                <td style=\"text-align: left;\">\n",
       "                    <strong>Dashboard:</strong> <a href=\"http://134.79.21.48:8787/status\" target=\"_blank\">http://134.79.21.48:8787/status</a>\n",
       "                </td>\n",
       "                <td style=\"text-align: left;\">\n",
       "                    <strong>Workers:</strong> 0\n",
       "                </td>\n",
       "            </tr>\n",
       "            <tr>\n",
       "                <td style=\"text-align: left;\">\n",
       "                    <strong>Total threads:</strong> 0\n",
       "                </td>\n",
       "                <td style=\"text-align: left;\">\n",
       "                    <strong>Total memory:</strong> 0 B\n",
       "                </td>\n",
       "            </tr>\n",
       "            \n",
       "        </table>\n",
       "\n",
       "        <details>\n",
       "            <summary style=\"margin-bottom: 20px;\">\n",
       "                <h3 style=\"display: inline;\">Scheduler Info</h3>\n",
       "            </summary>\n",
       "\n",
       "            <div style=\"\">\n",
       "    <div>\n",
       "        <div style=\"width: 24px; height: 24px; background-color: #FFF7E5; border: 3px solid #FF6132; border-radius: 5px; position: absolute;\"> </div>\n",
       "        <div style=\"margin-left: 48px;\">\n",
       "            <h3 style=\"margin-bottom: 0px;\">Scheduler</h3>\n",
       "            <p style=\"color: #9D9D9D; margin-bottom: 0px;\">Scheduler-c92769d9-b253-42f0-8d7f-954015c6cb98</p>\n",
       "            <table style=\"width: 100%; text-align: left;\">\n",
       "                <tr>\n",
       "                    <td style=\"text-align: left;\">\n",
       "                        <strong>Comm:</strong> tcp://134.79.21.48:33975\n",
       "                    </td>\n",
       "                    <td style=\"text-align: left;\">\n",
       "                        <strong>Workers:</strong> 0\n",
       "                    </td>\n",
       "                </tr>\n",
       "                <tr>\n",
       "                    <td style=\"text-align: left;\">\n",
       "                        <strong>Dashboard:</strong> <a href=\"http://134.79.21.48:8787/status\" target=\"_blank\">http://134.79.21.48:8787/status</a>\n",
       "                    </td>\n",
       "                    <td style=\"text-align: left;\">\n",
       "                        <strong>Total threads:</strong> 0\n",
       "                    </td>\n",
       "                </tr>\n",
       "                <tr>\n",
       "                    <td style=\"text-align: left;\">\n",
       "                        <strong>Started:</strong> Just now\n",
       "                    </td>\n",
       "                    <td style=\"text-align: left;\">\n",
       "                        <strong>Total memory:</strong> 0 B\n",
       "                    </td>\n",
       "                </tr>\n",
       "            </table>\n",
       "        </div>\n",
       "    </div>\n",
       "\n",
       "    <details style=\"margin-left: 48px;\">\n",
       "        <summary style=\"margin-bottom: 20px;\">\n",
       "            <h3 style=\"display: inline;\">Workers</h3>\n",
       "        </summary>\n",
       "\n",
       "        \n",
       "\n",
       "    </details>\n",
       "</div>\n",
       "\n",
       "        </details>\n",
       "    </div>\n",
       "</div>\n",
       "            </details>\n",
       "        \n",
       "\n",
       "    </div>\n",
       "</div>"
      ],
      "text/plain": [
       "<Client: 'tcp://134.79.21.48:33975' processes=0 threads=0, memory=0 B>"
      ]
     },
     "execution_count": 14,
     "metadata": {},
     "output_type": "execute_result"
    }
   ],
   "source": [
    "client"
   ]
  },
  {
   "cell_type": "code",
   "execution_count": 17,
   "id": "0d8772e4",
   "metadata": {},
   "outputs": [
    {
     "name": "stdout",
     "output_type": "stream",
     "text": [
      "[########################################] | 100% Completed |  1min 42.2s\u001b[2K\r"
     ]
    }
   ],
   "source": [
    "executor = processor.DaskExecutor(client=client, compression=None)\n",
    "run = processor.Runner(\n",
    "    executor=executor,\n",
    "    schema=NtupleSchema,\n",
    ")\n",
    "out_MC = run(my_MC_files, \"analysis\", processor_instance=MyProcessor())"
   ]
  },
  {
   "cell_type": "code",
   "execution_count": 18,
   "id": "f3f27e31",
   "metadata": {},
   "outputs": [
    {
     "data": {
      "text/plain": [
       "{'h_dielec_mass': Hist(\n",
       "   StrCategory(['Zee+jets', 'LQu Signal, 700 GeV el'], growth=True, name='d_axis'),\n",
       "   Regular(50, 0, 1000, name='e_axis', label='$e\\\\bar{e}$ mass [GeV]'),\n",
       "   storage=Double()) # Sum: 593.4444528078118 (600.2161995924693 with flow),\n",
       " 'h_mlq_avg': Hist(\n",
       "   StrCategory(['Zee+jets', 'LQu Signal, 700 GeV el'], growth=True, name='d_axis'),\n",
       "   Regular(50, 200, 1200, name='m_axis', label='Avg. $m_{\\\\ell j}$ [GeV]'),\n",
       "   storage=Double()) # Sum: 202.59402781641904 (600.2161995924693 with flow)}"
      ]
     },
     "execution_count": 18,
     "metadata": {},
     "output_type": "execute_result"
    }
   ],
   "source": [
    "out_MC"
   ]
  },
  {
   "cell_type": "code",
   "execution_count": 15,
   "id": "203f5f13",
   "metadata": {},
   "outputs": [
    {
     "name": "stdout",
     "output_type": "stream",
     "text": [
      "[########################################] | 100% Completed | 49.0s\u001b[2K\u001b[2K\r"
     ]
    }
   ],
   "source": [
    "executor = processor.DaskExecutor(client=client, compression=None)\n",
    "run = processor.Runner(\n",
    "    executor=executor,\n",
    "    schema=NtupleSchemaData,\n",
    ")\n",
    "out_DATA = run(my_DATA_files, \"analysis\", processor_instance=MyProcessor())"
   ]
  },
  {
   "cell_type": "code",
   "execution_count": 16,
   "id": "9446f84a",
   "metadata": {},
   "outputs": [
    {
     "data": {
      "text/plain": [
       "{'h_dielec_mass': Hist(\n",
       "   StrCategory(['Data'], growth=True, name='d_axis'),\n",
       "   Regular(50, 0, 1000, name='e_axis', label='$e\\\\bar{e}$ mass [GeV]'),\n",
       "   storage=Double()) # Sum: 3410.0 (3418.0 with flow),\n",
       " 'h_mlq_avg': Hist(\n",
       "   StrCategory(['Data'], growth=True, name='d_axis'),\n",
       "   Regular(50, 200, 1200, name='m_axis', label='Avg. $m_{\\\\ell j}$ [GeV]'),\n",
       "   storage=Double()) # Sum: 1079.0 (3418.0 with flow)}"
      ]
     },
     "execution_count": 16,
     "metadata": {},
     "output_type": "execute_result"
    }
   ],
   "source": [
    "out_DATA"
   ]
  },
  {
   "cell_type": "code",
   "execution_count": 20,
   "id": "46e01c4e",
   "metadata": {},
   "outputs": [],
   "source": [
    "#cluster.close()"
   ]
  },
  {
   "cell_type": "code",
   "execution_count": 21,
   "id": "76534782",
   "metadata": {},
   "outputs": [
    {
     "data": {
      "text/plain": [
       "dict_keys(['sig_el_LQu_700', 'zjets'])"
      ]
     },
     "execution_count": 21,
     "metadata": {},
     "output_type": "execute_result"
    }
   ],
   "source": [
    "MC_refdict.keys()"
   ]
  },
  {
   "cell_type": "code",
   "execution_count": 22,
   "id": "eb9e584f",
   "metadata": {},
   "outputs": [],
   "source": [
    "mycolorlist = [ MC_refdict[key]['plt_color'] for key in MC_refdict.keys() ]\n",
    "mycolorlist.reverse()"
   ]
  },
  {
   "cell_type": "code",
   "execution_count": 23,
   "id": "3c2b742c",
   "metadata": {},
   "outputs": [
    {
     "data": {
      "text/plain": [
       "['lightskyblue', 'red']"
      ]
     },
     "execution_count": 23,
     "metadata": {},
     "output_type": "execute_result"
    }
   ],
   "source": [
    "mycolorlist"
   ]
  },
  {
   "cell_type": "code",
   "execution_count": 67,
   "id": "d4b899a8",
   "metadata": {},
   "outputs": [
    {
     "data": {
      "image/png": "[encoded data removed]",
      "text/plain": [
       "<Figure size 800x600 with 2 Axes>"
      ]
     },
     "metadata": {},
     "output_type": "display_data"
    }
   ],
   "source": [
    "# Plotting the m_lq average\n",
    "\n",
    "fig, (ax, rax) = plt.subplots(2, 1, gridspec_kw=dict(height_ratios=[3, 1], hspace=0), sharex=True)\n",
    "fig.tight_layout()\n",
    "#fig, ax = plt.subplots(1, figsize=(6, 4), dpi=100)\n",
    "    \n",
    "out_MC[\"h_mlq_avg\"].plot1d(ax=ax, color=mycolorlist, stack=True, histtype=\"fill\") \n",
    "out_DATA[\"h_mlq_avg\"].plot1d(ax=ax, color=\"black\", histtype=\"errorbar\") \n",
    "\n",
    "rax.errorbar(\n",
    "    x=out_DATA[\"h_mlq_avg\"].axes[1].centers,\n",
    "    y=out_DATA[\"h_mlq_avg\"].view()[0] / out_MC[\"h_mlq_avg\"].view()[0],\n",
    "    yerr=ratio_uncertainty(out_DATA[\"h_mlq_avg\"].view()[0], out_MC[\"h_mlq_avg\"].view()[0], \"poisson\"),\n",
    "    color=\"k\",\n",
    "    linestyle=\"none\",\n",
    "    marker=\"o\",\n",
    "    elinewidth=1,\n",
    ")\n",
    "rax.axhline(y=1.0, linestyle=\"dashed\", color=\"gray\")\n",
    "rax.set_ylabel(\"Ratio\", loc=\"center\")\n",
    "rax.set_ylim(-5, 15)\n",
    "rax.set_xlabel(\"Avg. $m_{\\ell j}$ [GeV]\")\n",
    "\n",
    "hep.atlas.label(ax=ax, data=True, label=\"Internal\")\n",
    "\n",
    "ax.legend(bbox_to_anchor=(0.98, 1.05), loc=\"upper left\")\n",
    "\n",
    "ax.set_ylabel('# of events')\n",
    "ax.set_yscale(\"log\")\n",
    "plt.show()"
   ]
  },
  {
   "cell_type": "code",
   "execution_count": null,
   "id": "070ae57b",
   "metadata": {},
   "outputs": [],
   "source": []
  }
 ],
 "metadata": {
  "kernelspec": {
   "display_name": "Python 3",
   "language": "python",
   "name": "python3"
  },
  "language_info": {
   "codemirror_mode": {
    "name": "ipython",
    "version": 3
   },
   "file_extension": ".py",
   "mimetype": "text/x-python",
   "name": "python",
   "nbconvert_exporter": "python",
   "pygments_lexer": "ipython3",
   "version": "3.10.4"
  }
 },
 "nbformat": 4,
 "nbformat_minor": 5
}
