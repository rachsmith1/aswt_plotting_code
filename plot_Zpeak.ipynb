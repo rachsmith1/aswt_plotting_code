{
 "cells": [
  {
   "cell_type": "code",
   "execution_count": 1,
   "id": "6deb03b1",
   "metadata": {},
   "outputs": [],
   "source": [
    "import numpy as np\n",
    "\n",
    "import uproot\n",
    "import awkward as ak\n",
    "import coffea.processor as processor\n",
    "from coffea.nanoevents import BaseSchema, NanoEventsFactory\n",
    "from coffea.nanoevents.methods import vector\n",
    "import hist\n",
    "\n",
    "import mplhep as hep\n",
    "import matplotlib.pyplot as plt\n",
    "\n",
    "GeV = 1000"
   ]
  },
  {
   "cell_type": "code",
   "execution_count": 2,
   "id": "d71a2d80",
   "metadata": {},
   "outputs": [],
   "source": [
    "# mc20_13TeV.361107.PowhegPythia8EvtGen_AZNLOCTEQ6L1_Zmumu.deriv.DAOD_PHYS.e3601_s3681_r13167_p5267\n",
    "file_path = \"/gpfs/slac/atlas/fs1/d/recsmith/aswt/samples/FullCPAlgorithmsTest.mc.hist.root\""
   ]
  },
  {
   "cell_type": "code",
   "execution_count": 3,
   "id": "800b82c1",
   "metadata": {},
   "outputs": [],
   "source": [
    "class MyProcessor(processor.ProcessorABC):\n",
    "    def __init__(self):\n",
    "        dataset_axis = hist.axis.StrCategory(name=\"d_axis\", label=\"\", categories=[], growth=True)\n",
    "        dimu_mass_axis = hist.axis.Regular(name=\"m_axis\", label=\"$\\mu\\mu$ mass [GeV]\", bins=50, start=0, stop=120)\n",
    "        \n",
    "        self.output = processor.dict_accumulator({\n",
    "            'dimu_mass': hist.Hist(dataset_axis, dimu_mass_axis)\n",
    "        })\n",
    "    \n",
    "    def process(self, events):\n",
    "        \n",
    "        # we only want events that have exactly two muons with opposite charge\n",
    "        mask = [(ak.num(events[\"mu_pt_NOSYS\"]) == 2) & (ak.sum(events[\"mu_charge\"], axis=1) == 0)][0]\n",
    "        \n",
    "        mu_pt     = events[\"mu_pt_NOSYS\"][mask]\n",
    "        mu_eta    = events[\"mu_eta\"][mask]\n",
    "        mu_phi    = events[\"mu_phi\"][mask]\n",
    "        mu_m      = np.full((len(mu_pt),2), 105.658)\n",
    "        \n",
    "        vec4 = ak.zip(\n",
    "            {\"pt\": mu_pt, \"eta\": mu_eta, \"phi\": mu_phi, \"mass\": mu_m},\n",
    "            with_name=\"PtEtaPhiMLorentzVector\",\n",
    "            behavior=vector.behavior,\n",
    "        )\n",
    "        \n",
    "        dataset = events.metadata['dataset']\n",
    "        self.output['dimu_mass'].fill(d_axis=dataset, m_axis=[(v[0]+v[1]).mass/GeV for v in vec4])\n",
    "        \n",
    "        return self.output\n",
    "    \n",
    "    def postprocess(self, accumulator):\n",
    "        pass"
   ]
  },
  {
   "cell_type": "code",
   "execution_count": 4,
   "id": "137ba06d",
   "metadata": {},
   "outputs": [],
   "source": [
    "file = uproot.open(file_path)\n",
    "events = NanoEventsFactory.from_root(\n",
    "    file, \"analysis\", metadata={\"dataset\": \"Z$\\\\rightarrow\\mu\\mu$\"}, schemaclass=BaseSchema\n",
    ").events()\n",
    "p = MyProcessor()\n",
    "out = p.process(events)"
   ]
  },
  {
   "cell_type": "code",
   "execution_count": null,
   "id": "5ee6eae9",
   "metadata": {},
   "outputs": [],
   "source": [
    "fig, ax = plt.subplots(1, figsize=(6, 4), dpi=100)\n",
    "\n",
    "out[\"dimu_mass\"].plot1d(ax=ax, color=\"royalblue\")\n",
    "\n",
    "hep.style.use([hep.style.ATLAS])\n",
    "hep.atlas.label()\n",
    "\n",
    "ax.legend(bbox_to_anchor=(0.01, 0.85), loc=\"upper left\")\n",
    "\n",
    "ax.set_ylabel('# of $\\mu\\mu$ events')\n",
    "plt.show()"
   ]
  },
  {
   "cell_type": "code",
   "execution_count": null,
   "id": "2cec4bbc",
   "metadata": {},
   "outputs": [],
   "source": []
  }
 ],
 "metadata": {
  "kernelspec": {
   "display_name": "Python 3 (ipykernel)",
   "language": "python",
   "name": "python3"
  },
  "language_info": {
   "codemirror_mode": {
    "name": "ipython",
    "version": 3
   },
   "file_extension": ".py",
   "mimetype": "text/x-python",
   "name": "python",
   "nbconvert_exporter": "python",
   "pygments_lexer": "ipython3",
   "version": "3.8.13"
  }
 },
 "nbformat": 4,
 "nbformat_minor": 5
}
