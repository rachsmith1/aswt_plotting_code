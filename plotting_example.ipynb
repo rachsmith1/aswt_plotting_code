{
 "cells": [
  {
   "cell_type": "code",
   "execution_count": 1,
   "id": "e35d81d2",
   "metadata": {},
   "outputs": [],
   "source": [
    "import sys\n",
    "import numpy as np\n",
    "\n",
    "import matplotlib as mtp\n",
    "import matplotlib.pyplot as plt\n",
    "sys.path.insert(0, \"PyATLASstyle\")\n",
    "import PyATLASstyle as pas\n",
    "pas.applyATLASstyle(mtp)\n",
    "\n",
    "GeV = 1000"
   ]
  },
  {
   "cell_type": "code",
   "execution_count": 2,
   "id": "5ffbae2f",
   "metadata": {},
   "outputs": [],
   "source": [
    "file_path = \"../samples/ntuple_v1.root\""
   ]
  },
  {
   "cell_type": "markdown",
   "id": "44801e11",
   "metadata": {},
   "source": [
    "# Uproot + Pandas"
   ]
  },
  {
   "cell_type": "code",
   "execution_count": 3,
   "id": "eeb86bfd",
   "metadata": {},
   "outputs": [],
   "source": [
    "import uproot3 as upr3\n",
    "import pandas as pd"
   ]
  },
  {
   "cell_type": "code",
   "execution_count": 4,
   "id": "de4989bd",
   "metadata": {},
   "outputs": [],
   "source": [
    "arrays_to_open = [\"jet_pt_NOSYS\", \"jet_phi\", \"jet_eta\"]"
   ]
  },
  {
   "cell_type": "code",
   "execution_count": 5,
   "id": "084afa79",
   "metadata": {},
   "outputs": [],
   "source": [
    "df = pd.DataFrame(upr3.open(file_path)[\"analysis\"].arrays(arrays_to_open, namedecode=\"utf-8\"))"
   ]
  },
  {
   "cell_type": "code",
   "execution_count": 6,
   "id": "35052ba2",
   "metadata": {},
   "outputs": [
    {
     "data": {
      "text/plain": [
       "40000"
      ]
     },
     "execution_count": 6,
     "metadata": {},
     "output_type": "execute_result"
    }
   ],
   "source": [
    "# number of events\n",
    "len(df)"
   ]
  },
  {
   "cell_type": "code",
   "execution_count": 7,
   "id": "f509386d",
   "metadata": {},
   "outputs": [
    {
     "data": {
      "text/plain": [
       "0        [88068.875, 67244.36, 60222.39, 49769.53, 2519...\n",
       "1        [116802.8, 82981.65, 77938.13, 63455.76, 24229...\n",
       "2        [60975.89, 61747.17, 58188.297, 46637.984, 402...\n",
       "3        [65005.863, 61154.26, 60976.09, 57639.797, 257...\n",
       "4        [170076.19, 140629.44, 35733.164, 37615.555, 1...\n",
       "                               ...                        \n",
       "39995    [100117.36, 88533.555, 92773.02, 42057.438, 19...\n",
       "39996    [87069.25, 83007.32, 40104.13, 35296.3, 20708....\n",
       "39997    [218181.95, 108714.766, 28838.934, 29332.39, 1...\n",
       "39998    [137843.3, 81121.0, 76987.805, 62878.76, 40392...\n",
       "39999    [122521.65, 33772.21, 26725.064, 20402.986, 16...\n",
       "Name: jet_pt_NOSYS, Length: 40000, dtype: object"
      ]
     },
     "execution_count": 7,
     "metadata": {},
     "output_type": "execute_result"
    }
   ],
   "source": [
    "df[\"jet_pt_NOSYS\"]"
   ]
  },
  {
   "cell_type": "code",
   "execution_count": 8,
   "id": "fbd10fbe",
   "metadata": {},
   "outputs": [
    {
     "data": {
      "image/png": "[encoded data removed]",
      "text/plain": [
       "<Figure size 500x400 with 1 Axes>"
      ]
     },
     "metadata": {
      "needs_background": "light"
     },
     "output_type": "display_data"
    }
   ],
   "source": [
    "fig, ax = plt.subplots(1, figsize=(5, 4), dpi=100)\n",
    "\n",
    "ax.hist(\n",
    "    np.array([x for y in df[\"jet_pt_NOSYS\"] for x in y])/GeV, 50, (0,200), \n",
    "    histtype=\"step\", color=\"royalblue\", linewidth=1.5, label=\"ttbar\"\n",
    ")\n",
    "ax.set_xlabel(\"jet $p_T$ [GeV]\", loc=\"right\")\n",
    "ax.set_ylabel(\"Entries\", loc=\"top\")\n",
    "ax.set_yscale(\"log\")\n",
    "\n",
    "pas.makeATLAStag(\n",
    "    ax, fig, first_tag=\"Internal\", second_tag=r\"$\\sqrt{s}$=13 TeV, ??? fb$^{-1}$\", \n",
    "    xmin=0.55, ymax=0.85, line_spacing=0.6\n",
    ")\n",
    "\n",
    "ax.legend(bbox_to_anchor=(0.52, 0.80), loc=\"upper left\")\n",
    "\n",
    "plt.show()"
   ]
  },
  {
   "cell_type": "markdown",
   "id": "6829a223",
   "metadata": {},
   "source": [
    "# Coffea"
   ]
  },
  {
   "cell_type": "code",
   "execution_count": 9,
   "id": "78e9fd0c",
   "metadata": {},
   "outputs": [],
   "source": [
    "import uproot as upr4\n",
    "import awkward as ak\n",
    "import coffea.processor as processor\n",
    "from coffea.nanoevents import BaseSchema, NanoEventsFactory\n",
    "\n",
    "import hist"
   ]
  },
  {
   "cell_type": "code",
   "execution_count": 10,
   "id": "e9447c90",
   "metadata": {},
   "outputs": [],
   "source": [
    "class MyProcessor(processor.ProcessorABC):\n",
    "    def __init__(self):\n",
    "        dataset_axis = hist.axis.StrCategory(name=\"d_axis\", label=\"\", categories=[], growth=True)\n",
    "        jet_axis = hist.axis.Regular(name=\"j_axis\", label=\"jet $p_T$ [GeV]\", bins=50, start=0, stop=200)\n",
    "        \n",
    "        self.output = processor.dict_accumulator({\n",
    "            'jet_pt': hist.Hist(dataset_axis, jet_axis)\n",
    "        })\n",
    "    \n",
    "    def process(self, events):\n",
    "        dataset = events.metadata['dataset']\n",
    "        self.output['jet_pt'].fill(d_axis=dataset, j_axis=ak.flatten(events[\"jet_pt_NOSYS\"])/GeV)\n",
    "        \n",
    "        return self.output\n",
    "    \n",
    "    def postprocess(self, accumulator):\n",
    "        pass"
   ]
  },
  {
   "cell_type": "code",
   "execution_count": 11,
   "id": "a1cc15e8",
   "metadata": {},
   "outputs": [],
   "source": [
    "file = upr4.open(file_path)\n",
    "events = NanoEventsFactory.from_root(file, \"analysis\", metadata={\"dataset\": \"ttbar\"}, schemaclass=BaseSchema).events()\n",
    "p = MyProcessor()\n",
    "out = p.process(events)"
   ]
  },
  {
   "cell_type": "code",
   "execution_count": 12,
   "id": "1e35eb9a",
   "metadata": {},
   "outputs": [
    {
     "data": {
      "text/plain": [
       "['runNumber', 'eventNumber', 'jet_pt_NOSYS', 'jet_phi', 'jet_eta']"
      ]
     },
     "execution_count": 12,
     "metadata": {},
     "output_type": "execute_result"
    }
   ],
   "source": [
    "events.fields[:5]"
   ]
  },
  {
   "cell_type": "code",
   "execution_count": 13,
   "id": "916147ae",
   "metadata": {},
   "outputs": [
    {
     "data": {
      "text/plain": [
       "{'jet_pt': Hist(\n",
       "   StrCategory(['ttbar'], growth=True, name='d_axis', label='d_axis'),\n",
       "   Regular(50, 0, 200, name='j_axis', label='jet $p_T$ [GeV]'),\n",
       "   storage=Double()) # Sum: 332185.0 (337127.0 with flow)}"
      ]
     },
     "execution_count": 13,
     "metadata": {},
     "output_type": "execute_result"
    }
   ],
   "source": [
    "out"
   ]
  },
  {
   "cell_type": "code",
   "execution_count": 14,
   "id": "bdbef1b6",
   "metadata": {},
   "outputs": [
    {
     "data": {
      "image/png": "[encoded data removed]",
      "text/plain": [
       "<Figure size 500x400 with 1 Axes>"
      ]
     },
     "metadata": {
      "needs_background": "light"
     },
     "output_type": "display_data"
    }
   ],
   "source": [
    "fig, ax = plt.subplots(1, figsize=(5, 4), dpi=100)\n",
    "\n",
    "out[\"jet_pt\"].plot1d(ax=ax, color=\"royalblue\")\n",
    "\n",
    "ax.set_xlabel(\"jet $p_T$ [GeV]\", loc=\"right\")\n",
    "ax.set_ylabel(\"Entries\", loc=\"top\")\n",
    "ax.set_yscale(\"log\")\n",
    "\n",
    "pas.makeATLAStag(\n",
    "    ax, fig, first_tag=\"Internal\", second_tag=r\"$\\sqrt{s}$=13 TeV, ??? fb$^{-1}$\", \n",
    "    xmin=0.55, ymax=0.85, line_spacing=0.6\n",
    ")\n",
    "\n",
    "ax.legend(bbox_to_anchor=(0.52, 0.80), loc=\"upper left\")\n",
    "\n",
    "plt.show()"
   ]
  },
  {
   "cell_type": "code",
   "execution_count": null,
   "id": "24db152b",
   "metadata": {},
   "outputs": [],
   "source": []
  }
 ],
 "metadata": {
  "kernelspec": {
   "display_name": "Python 3 (ipykernel)",
   "language": "python",
   "name": "python3"
  },
  "language_info": {
   "codemirror_mode": {
    "name": "ipython",
    "version": 3
   },
   "file_extension": ".py",
   "mimetype": "text/x-python",
   "name": "python",
   "nbconvert_exporter": "python",
   "pygments_lexer": "ipython3",
   "version": "3.8.13"
  }
 },
 "nbformat": 4,
 "nbformat_minor": 5
}
